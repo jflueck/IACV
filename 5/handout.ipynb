{
 "cells": [
  {
   "cell_type": "markdown",
   "metadata": {
    "id": "5DYJwNdGOrc-"
   },
   "source": [
    "# IACV Exercise 5: Transfer Learning\n",
    "\n",
    "In this exercise, you will again tackle the image classification task, as in exercise 4.\n",
    "Given an input RGB image with resolution `(32, 32, 3)`, you need to predict which of the 10 input classes it belongs to.\n",
    "However, unlike in exercise 4, you have access to limited training data in `training.h5`.\n",
    "In fact, you only have `210` samples per class, which are separated into training, validation, and test sets of ratio `7:1:2` for ease of use.\n",
    "You can use these three sets of data for your development.\n",
    "\n",
    "Fortunately, you have access to a pre-trained network which has been trained on large amounts of data to classify 5 out of 10 input classes.\n",
    "That is, the pre-trained network obtains a classification accuracy of around 95% for 5 of the classes, while the remaining classes are not defined at all.\n",
    "The pretrained parameters are stored in `ckpt/resnet4five.pt` and the loading process explained below.\n",
    "\n",
    "Your task is to either adapt this model, or train a new network from scratch which can classify all 10 classes.\n",
    "Similar to exercise 4, we will use the [PyTorch](https://https://pytorch.org/) deep learning framework in this exercise.\n",
    "\n",
    "**Evaluation Criteria**\n",
    "\n",
    "Your algorithm will be evaluated using classification accuracy, which is the proportion of images with the correct predicted label.\n",
    "The final EvaluationScore is obtained as the classification accuracy over all test samples, over all 10 classes.\n",
    "The real test data used for evaluation has 1000 images without labels and can be found in `test.h5`\n",
    "\n",
    "**Rules**\n",
    "\n",
    "Throughout this project, you are **not allowed to use any other dataset and/or pre-trained model other than the given ones**.\n",
    "You are allowed to use any other techniques you have learned in the course, including but not limited to\n",
    "*data augmentation, early stopping, and transfer learning*."
   ]
  },
  {
   "cell_type": "code",
   "execution_count": 54,
   "metadata": {
    "colab": {
     "base_uri": "https://localhost:8080/"
    },
    "executionInfo": {
     "elapsed": 29562,
     "status": "ok",
     "timestamp": 1732723171153,
     "user": {
      "displayName": "IACV-TA-Team",
      "userId": "02056513601283280926"
     },
     "user_tz": -60
    },
    "id": "PwCTa9CLPHYb",
    "outputId": "a6e7cf2c-cfe2-4a03-a3a4-490d425cee98"
   },
   "outputs": [
    {
     "name": "stdout",
     "output_type": "stream",
     "text": [
      "The autoreload extension is already loaded. To reload it, use:\n",
      "  %reload_ext autoreload\n"
     ]
    }
   ],
   "source": [
    "# These two lines ensure that we always import the latest version of a package\n",
    "%load_ext autoreload\n",
    "%autoreload 2\n",
    "\n",
    "%matplotlib inline\n",
    "from matplotlib import pyplot as plt\n",
    "\n",
    "\n",
    "import os\n",
    "import sys\n",
    "import shutil\n",
    "from pathlib import Path\n",
    "\n",
    "import torch\n",
    "import numpy as np\n"
   ]
  },
  {
   "cell_type": "code",
   "execution_count": 55,
   "metadata": {
    "id": "w157_tWbPUhU"
   },
   "outputs": [],
   "source": [
    "iacv_path = '/Users/joelflueckiger/Desktop/IACV/5/'\n",
    "\n",
    "env_path = iacv_path\n",
    "# Add the handout folder to python paths\n",
    "if env_path not in sys.path:\n",
    "    sys.path.append(str(env_path))"
   ]
  },
  {
   "cell_type": "markdown",
   "metadata": {
    "id": "kl_DMyvRWDLM"
   },
   "source": [
    "## Enabeling GPU on CoLab\n",
    "For this exercise you might want to use a GPU.\n",
    "Even the small ResNet we provide runs more than 25 times faster on CoLabs free GPU compared to CoLabs CPUs.\n",
    "\n",
    "In the CoLab menu, go to `Runtime` -> `Change Runtime Type` and select `T4 GPU` as harware accelerator.\n",
    "\n",
    "Note that this is free! You will not need to pay anything to use this service!"
   ]
  },
  {
   "cell_type": "code",
   "execution_count": 56,
   "metadata": {
    "id": "zJXMnjTvWIjx"
   },
   "outputs": [
    {
     "name": "stdout",
     "output_type": "stream",
     "text": [
      "Is a CUDA capable GPU available? False\n"
     ]
    }
   ],
   "source": [
    "# With PyTorch you can check if a GPU is available as follows:\n",
    "print(f\"Is a CUDA capable GPU available? {torch.cuda.is_available()}\")\n",
    "\n",
    "# Note: CUDA is the platform developed by NVIDIA for their GPUs"
   ]
  },
  {
   "cell_type": "markdown",
   "metadata": {
    "id": "AIZmtynK8aY0"
   },
   "source": [
    "## Mapping from 5 to 10 classes\n",
    "\n",
    "Define a mapping from 5 to 10 classes because the indices do not match, such as `classes[0]` is `Airplane` while `classes5[0]` is `Cat`"
   ]
  },
  {
   "cell_type": "code",
   "execution_count": 57,
   "metadata": {
    "id": "tj7vLLTsImlM"
   },
   "outputs": [
    {
     "name": "stdout",
     "output_type": "stream",
     "text": [
      "Mapping array is: [3 4 6 8 9]\n"
     ]
    }
   ],
   "source": [
    "# Mapping from 5 to 10 classes\n",
    "\n",
    "# Classes for the pretrained dataset\n",
    "classes5 = [\"Cat\", \"Deer\", \"Frog\", \"Ship\", \"Truck\"]\n",
    "\n",
    "# Actual classes\n",
    "classes = [\"Airplane\", \"Automobile\", \"Bird\", \"Cat\", \"Deer\",\n",
    "           \"Dog\", \"Frog\", \"Horse\", \"Ship\", \"Truck\"]\n",
    "\n",
    "# Converting numpy arrays for indexing\n",
    "classes5 = np.array(classes5)\n",
    "classes = np.array(classes)\n",
    "\n",
    "# Mapping from 5 classes to 10 classes for evaluation\n",
    "map5to10 = [np.where(classes==class_)[0][0] for class_ in classes5]\n",
    "map5to10 = np.array(map5to10)\n",
    "print(\"Mapping array is:\", map5to10)"
   ]
  },
  {
   "cell_type": "code",
   "execution_count": 58,
   "metadata": {
    "id": "PFEMjFFL-AOQ"
   },
   "outputs": [
    {
     "name": "stdout",
     "output_type": "stream",
     "text": [
      "Actual Predictions:         ['Deer' 'Cat' 'Frog' 'Ship' 'Cat' 'Ship' 'Truck']\n",
      "Wrongly-mapped Predictions: ['Automobile' 'Airplane' 'Bird' 'Cat' 'Airplane' 'Cat' 'Deer']\n",
      "Correct-mapped Predictions: ['Deer' 'Cat' 'Frog' 'Ship' 'Cat' 'Ship' 'Truck']\n"
     ]
    }
   ],
   "source": [
    "# Example usage\n",
    "\n",
    "# Random predictions by 5\n",
    "preds5 = np.random.randint(5, size=7, dtype=int)\n",
    "\n",
    "# Predicted classes\n",
    "print(\"Actual Predictions:        \", classes5[preds5])\n",
    "\n",
    "# Wrong mapping from 5 to 10 classes\n",
    "print(\"Wrongly-mapped Predictions:\", classes[preds5])\n",
    "\n",
    "# Correct mapping from 5 to 10 classes\n",
    "print(\"Correct-mapped Predictions:\", classes[map5to10[preds5]])"
   ]
  },
  {
   "cell_type": "markdown",
   "metadata": {
    "id": "w2LFx6yAPZoI"
   },
   "source": [
    "## Create dataloaders\n",
    "\n",
    "We have implemented the basic data handling.\n",
    "You might want to check out the file `dataset.py` nonetheless.\n",
    "In case you want to apply data augmentations during training, etc...\n"
   ]
  },
  {
   "cell_type": "code",
   "execution_count": null,
   "metadata": {
    "id": "4z4r22MAOrdC"
   },
   "outputs": [
    {
     "name": "stdout",
     "output_type": "stream",
     "text": [
      "The dataset contains 10 classes.\n",
      "Number of images in each dataset: Training=1470,  Validation=210, Test=420\n"
     ]
    }
   ],
   "source": [
    "from dataset import get_datasets_from_h5, get_loaders_from_datasets\n",
    "import os\n",
    "import torch\n",
    "from torchvision import transforms\n",
    "\n",
    "# Define data augmentation and transformations\n",
    "transform_train = transforms.Compose([\n",
    "    transforms.RandomCrop(32, padding=4),\n",
    "    transforms.RandomHorizontalFlip(),\n",
    "    transforms.ToTensor(),\n",
    "    # Normalize with mean and std (assuming CIFAR-10 stats)\n",
    "    transforms.Normalize((0.4914, 0.4822, 0.4465), \n",
    "                         (0.2470, 0.2435, 0.2616)),\n",
    "])\n",
    "\n",
    "transform_test = transforms.Compose([\n",
    "    transforms.ToTensor(),\n",
    "    transforms.Normalize((0.4914, 0.4822, 0.4465), \n",
    "                         (0.2470, 0.2435, 0.2616)),\n",
    "])\n",
    "\n",
    "# Get the datasets\n",
    "data_path = os.path.join(env_path, 'data')\n",
    "train_dataset, val_dataset, test_dataset = get_datasets_from_h5(os.path.join(data_path, 'training.h5'))\n",
    "\n",
    "# Construct the dataloaders\n",
    "batch_size = 24\n",
    "train_loader, val_loader, test_loader = get_loaders_from_datasets(\n",
    "    train_dataset, val_dataset, test_dataset, batch_size\n",
    ")\n",
    "\n",
    "# Print the sizes of the datasets\n",
    "print(f\"The dataset contains {train_dataset.num_classes} classes.\")\n",
    "print(f\"Number of images in each dataset: Training={len(train_dataset)}, \",\n",
    "      f\"Validation={len(val_dataset)}, Test={len(test_dataset)}\")\n"
   ]
  },
  {
   "cell_type": "markdown",
   "metadata": {
    "id": "23Ihu991RwDg"
   },
   "source": [
    "## Visualize training images"
   ]
  },
  {
   "cell_type": "code",
   "execution_count": 62,
   "metadata": {
    "id": "I1PrWX3TSAWe"
   },
   "outputs": [
    {
     "ename": "TypeError",
     "evalue": "default_collate: batch must contain tensors, numpy arrays, numbers, dicts or lists; found <class 'PIL.Image.Image'>",
     "output_type": "error",
     "traceback": [
      "\u001b[0;31m---------------------------------------------------------------------------\u001b[0m",
      "\u001b[0;31mTypeError\u001b[0m                                 Traceback (most recent call last)",
      "Cell \u001b[0;32mIn[62], line 4\u001b[0m\n\u001b[1;32m      1\u001b[0m \u001b[38;5;28;01mfrom\u001b[39;00m \u001b[38;5;21;01mutils\u001b[39;00m \u001b[38;5;28;01mimport\u001b[39;00m show_images\n\u001b[1;32m      3\u001b[0m dataiter \u001b[38;5;241m=\u001b[39m \u001b[38;5;28miter\u001b[39m(train_loader)\n\u001b[0;32m----> 4\u001b[0m images, labels \u001b[38;5;241m=\u001b[39m \u001b[38;5;28;43mnext\u001b[39;49m\u001b[43m(\u001b[49m\u001b[43mdataiter\u001b[49m\u001b[43m)\u001b[49m\n\u001b[1;32m      6\u001b[0m show_images(images[:\u001b[38;5;241m6\u001b[39m], classes[labels[:\u001b[38;5;241m6\u001b[39m]])\n",
      "File \u001b[0;32m~/Desktop/IACV/iacv_env/lib/python3.9/site-packages/torch/utils/data/dataloader.py:701\u001b[0m, in \u001b[0;36m_BaseDataLoaderIter.__next__\u001b[0;34m(self)\u001b[0m\n\u001b[1;32m    698\u001b[0m \u001b[38;5;28;01mif\u001b[39;00m \u001b[38;5;28mself\u001b[39m\u001b[38;5;241m.\u001b[39m_sampler_iter \u001b[38;5;129;01mis\u001b[39;00m \u001b[38;5;28;01mNone\u001b[39;00m:\n\u001b[1;32m    699\u001b[0m     \u001b[38;5;66;03m# TODO(https://github.com/pytorch/pytorch/issues/76750)\u001b[39;00m\n\u001b[1;32m    700\u001b[0m     \u001b[38;5;28mself\u001b[39m\u001b[38;5;241m.\u001b[39m_reset()  \u001b[38;5;66;03m# type: ignore[call-arg]\u001b[39;00m\n\u001b[0;32m--> 701\u001b[0m data \u001b[38;5;241m=\u001b[39m \u001b[38;5;28;43mself\u001b[39;49m\u001b[38;5;241;43m.\u001b[39;49m\u001b[43m_next_data\u001b[49m\u001b[43m(\u001b[49m\u001b[43m)\u001b[49m\n\u001b[1;32m    702\u001b[0m \u001b[38;5;28mself\u001b[39m\u001b[38;5;241m.\u001b[39m_num_yielded \u001b[38;5;241m+\u001b[39m\u001b[38;5;241m=\u001b[39m \u001b[38;5;241m1\u001b[39m\n\u001b[1;32m    703\u001b[0m \u001b[38;5;28;01mif\u001b[39;00m (\n\u001b[1;32m    704\u001b[0m     \u001b[38;5;28mself\u001b[39m\u001b[38;5;241m.\u001b[39m_dataset_kind \u001b[38;5;241m==\u001b[39m _DatasetKind\u001b[38;5;241m.\u001b[39mIterable\n\u001b[1;32m    705\u001b[0m     \u001b[38;5;129;01mand\u001b[39;00m \u001b[38;5;28mself\u001b[39m\u001b[38;5;241m.\u001b[39m_IterableDataset_len_called \u001b[38;5;129;01mis\u001b[39;00m \u001b[38;5;129;01mnot\u001b[39;00m \u001b[38;5;28;01mNone\u001b[39;00m\n\u001b[1;32m    706\u001b[0m     \u001b[38;5;129;01mand\u001b[39;00m \u001b[38;5;28mself\u001b[39m\u001b[38;5;241m.\u001b[39m_num_yielded \u001b[38;5;241m>\u001b[39m \u001b[38;5;28mself\u001b[39m\u001b[38;5;241m.\u001b[39m_IterableDataset_len_called\n\u001b[1;32m    707\u001b[0m ):\n",
      "File \u001b[0;32m~/Desktop/IACV/iacv_env/lib/python3.9/site-packages/torch/utils/data/dataloader.py:757\u001b[0m, in \u001b[0;36m_SingleProcessDataLoaderIter._next_data\u001b[0;34m(self)\u001b[0m\n\u001b[1;32m    755\u001b[0m \u001b[38;5;28;01mdef\u001b[39;00m \u001b[38;5;21m_next_data\u001b[39m(\u001b[38;5;28mself\u001b[39m):\n\u001b[1;32m    756\u001b[0m     index \u001b[38;5;241m=\u001b[39m \u001b[38;5;28mself\u001b[39m\u001b[38;5;241m.\u001b[39m_next_index()  \u001b[38;5;66;03m# may raise StopIteration\u001b[39;00m\n\u001b[0;32m--> 757\u001b[0m     data \u001b[38;5;241m=\u001b[39m \u001b[38;5;28;43mself\u001b[39;49m\u001b[38;5;241;43m.\u001b[39;49m\u001b[43m_dataset_fetcher\u001b[49m\u001b[38;5;241;43m.\u001b[39;49m\u001b[43mfetch\u001b[49m\u001b[43m(\u001b[49m\u001b[43mindex\u001b[49m\u001b[43m)\u001b[49m  \u001b[38;5;66;03m# may raise StopIteration\u001b[39;00m\n\u001b[1;32m    758\u001b[0m     \u001b[38;5;28;01mif\u001b[39;00m \u001b[38;5;28mself\u001b[39m\u001b[38;5;241m.\u001b[39m_pin_memory:\n\u001b[1;32m    759\u001b[0m         data \u001b[38;5;241m=\u001b[39m _utils\u001b[38;5;241m.\u001b[39mpin_memory\u001b[38;5;241m.\u001b[39mpin_memory(data, \u001b[38;5;28mself\u001b[39m\u001b[38;5;241m.\u001b[39m_pin_memory_device)\n",
      "File \u001b[0;32m~/Desktop/IACV/iacv_env/lib/python3.9/site-packages/torch/utils/data/_utils/fetch.py:55\u001b[0m, in \u001b[0;36m_MapDatasetFetcher.fetch\u001b[0;34m(self, possibly_batched_index)\u001b[0m\n\u001b[1;32m     53\u001b[0m \u001b[38;5;28;01melse\u001b[39;00m:\n\u001b[1;32m     54\u001b[0m     data \u001b[38;5;241m=\u001b[39m \u001b[38;5;28mself\u001b[39m\u001b[38;5;241m.\u001b[39mdataset[possibly_batched_index]\n\u001b[0;32m---> 55\u001b[0m \u001b[38;5;28;01mreturn\u001b[39;00m \u001b[38;5;28;43mself\u001b[39;49m\u001b[38;5;241;43m.\u001b[39;49m\u001b[43mcollate_fn\u001b[49m\u001b[43m(\u001b[49m\u001b[43mdata\u001b[49m\u001b[43m)\u001b[49m\n",
      "File \u001b[0;32m~/Desktop/IACV/iacv_env/lib/python3.9/site-packages/torch/utils/data/_utils/collate.py:398\u001b[0m, in \u001b[0;36mdefault_collate\u001b[0;34m(batch)\u001b[0m\n\u001b[1;32m    337\u001b[0m \u001b[38;5;28;01mdef\u001b[39;00m \u001b[38;5;21mdefault_collate\u001b[39m(batch):\n\u001b[1;32m    338\u001b[0m \u001b[38;5;250m    \u001b[39m\u001b[38;5;124mr\u001b[39m\u001b[38;5;124;03m\"\"\"\u001b[39;00m\n\u001b[1;32m    339\u001b[0m \u001b[38;5;124;03m    Take in a batch of data and put the elements within the batch into a tensor with an additional outer dimension - batch size.\u001b[39;00m\n\u001b[1;32m    340\u001b[0m \n\u001b[0;32m   (...)\u001b[0m\n\u001b[1;32m    396\u001b[0m \u001b[38;5;124;03m        >>> default_collate(batch)  # Handle `CustomType` automatically\u001b[39;00m\n\u001b[1;32m    397\u001b[0m \u001b[38;5;124;03m    \"\"\"\u001b[39;00m\n\u001b[0;32m--> 398\u001b[0m     \u001b[38;5;28;01mreturn\u001b[39;00m \u001b[43mcollate\u001b[49m\u001b[43m(\u001b[49m\u001b[43mbatch\u001b[49m\u001b[43m,\u001b[49m\u001b[43m \u001b[49m\u001b[43mcollate_fn_map\u001b[49m\u001b[38;5;241;43m=\u001b[39;49m\u001b[43mdefault_collate_fn_map\u001b[49m\u001b[43m)\u001b[49m\n",
      "File \u001b[0;32m~/Desktop/IACV/iacv_env/lib/python3.9/site-packages/torch/utils/data/_utils/collate.py:211\u001b[0m, in \u001b[0;36mcollate\u001b[0;34m(batch, collate_fn_map)\u001b[0m\n\u001b[1;32m    208\u001b[0m transposed \u001b[38;5;241m=\u001b[39m \u001b[38;5;28mlist\u001b[39m(\u001b[38;5;28mzip\u001b[39m(\u001b[38;5;241m*\u001b[39mbatch))  \u001b[38;5;66;03m# It may be accessed twice, so we use a list.\u001b[39;00m\n\u001b[1;32m    210\u001b[0m \u001b[38;5;28;01mif\u001b[39;00m \u001b[38;5;28misinstance\u001b[39m(elem, \u001b[38;5;28mtuple\u001b[39m):\n\u001b[0;32m--> 211\u001b[0m     \u001b[38;5;28;01mreturn\u001b[39;00m [\n\u001b[1;32m    212\u001b[0m         collate(samples, collate_fn_map\u001b[38;5;241m=\u001b[39mcollate_fn_map)\n\u001b[1;32m    213\u001b[0m         \u001b[38;5;28;01mfor\u001b[39;00m samples \u001b[38;5;129;01min\u001b[39;00m transposed\n\u001b[1;32m    214\u001b[0m     ]  \u001b[38;5;66;03m# Backwards compatibility.\u001b[39;00m\n\u001b[1;32m    215\u001b[0m \u001b[38;5;28;01melse\u001b[39;00m:\n\u001b[1;32m    216\u001b[0m     \u001b[38;5;28;01mtry\u001b[39;00m:\n",
      "File \u001b[0;32m~/Desktop/IACV/iacv_env/lib/python3.9/site-packages/torch/utils/data/_utils/collate.py:212\u001b[0m, in \u001b[0;36m<listcomp>\u001b[0;34m(.0)\u001b[0m\n\u001b[1;32m    208\u001b[0m transposed \u001b[38;5;241m=\u001b[39m \u001b[38;5;28mlist\u001b[39m(\u001b[38;5;28mzip\u001b[39m(\u001b[38;5;241m*\u001b[39mbatch))  \u001b[38;5;66;03m# It may be accessed twice, so we use a list.\u001b[39;00m\n\u001b[1;32m    210\u001b[0m \u001b[38;5;28;01mif\u001b[39;00m \u001b[38;5;28misinstance\u001b[39m(elem, \u001b[38;5;28mtuple\u001b[39m):\n\u001b[1;32m    211\u001b[0m     \u001b[38;5;28;01mreturn\u001b[39;00m [\n\u001b[0;32m--> 212\u001b[0m         \u001b[43mcollate\u001b[49m\u001b[43m(\u001b[49m\u001b[43msamples\u001b[49m\u001b[43m,\u001b[49m\u001b[43m \u001b[49m\u001b[43mcollate_fn_map\u001b[49m\u001b[38;5;241;43m=\u001b[39;49m\u001b[43mcollate_fn_map\u001b[49m\u001b[43m)\u001b[49m\n\u001b[1;32m    213\u001b[0m         \u001b[38;5;28;01mfor\u001b[39;00m samples \u001b[38;5;129;01min\u001b[39;00m transposed\n\u001b[1;32m    214\u001b[0m     ]  \u001b[38;5;66;03m# Backwards compatibility.\u001b[39;00m\n\u001b[1;32m    215\u001b[0m \u001b[38;5;28;01melse\u001b[39;00m:\n\u001b[1;32m    216\u001b[0m     \u001b[38;5;28;01mtry\u001b[39;00m:\n",
      "File \u001b[0;32m~/Desktop/IACV/iacv_env/lib/python3.9/site-packages/torch/utils/data/_utils/collate.py:240\u001b[0m, in \u001b[0;36mcollate\u001b[0;34m(batch, collate_fn_map)\u001b[0m\n\u001b[1;32m    232\u001b[0m         \u001b[38;5;28;01mexcept\u001b[39;00m \u001b[38;5;167;01mTypeError\u001b[39;00m:\n\u001b[1;32m    233\u001b[0m             \u001b[38;5;66;03m# The sequence type may not support `copy()` / `__setitem__(index, item)`\u001b[39;00m\n\u001b[1;32m    234\u001b[0m             \u001b[38;5;66;03m# or `__init__(iterable)` (e.g., `range`).\u001b[39;00m\n\u001b[1;32m    235\u001b[0m             \u001b[38;5;28;01mreturn\u001b[39;00m [\n\u001b[1;32m    236\u001b[0m                 collate(samples, collate_fn_map\u001b[38;5;241m=\u001b[39mcollate_fn_map)\n\u001b[1;32m    237\u001b[0m                 \u001b[38;5;28;01mfor\u001b[39;00m samples \u001b[38;5;129;01min\u001b[39;00m transposed\n\u001b[1;32m    238\u001b[0m             ]\n\u001b[0;32m--> 240\u001b[0m \u001b[38;5;28;01mraise\u001b[39;00m \u001b[38;5;167;01mTypeError\u001b[39;00m(default_collate_err_msg_format\u001b[38;5;241m.\u001b[39mformat(elem_type))\n",
      "\u001b[0;31mTypeError\u001b[0m: default_collate: batch must contain tensors, numpy arrays, numbers, dicts or lists; found <class 'PIL.Image.Image'>"
     ]
    }
   ],
   "source": [
    "from utils import show_images\n",
    "\n",
    "dataiter = iter(train_loader)\n",
    "images, labels = next(dataiter)\n",
    "\n",
    "show_images(images[:6], classes[labels[:6]])"
   ]
  },
  {
   "cell_type": "markdown",
   "metadata": {
    "id": "cukc9chqOrdD"
   },
   "source": [
    "## Load pre-trained model\n",
    "\n",
    "As mentioned before, you have access to parameters of a pre-trained model `resnet4five.pt`, which is a standard ResNet18 model and has been trained to classify images into 5 classes (\"Cat\", \"Deer\", \"Frog\", \"Ship\", \"Truck\"), using larger dataset. It achieves accuracy of higher than 90% for these classes."
   ]
  },
  {
   "cell_type": "code",
   "execution_count": 19,
   "metadata": {
    "colab": {
     "base_uri": "https://localhost:8080/"
    },
    "executionInfo": {
     "elapsed": 673,
     "status": "ok",
     "timestamp": 1732723444584,
     "user": {
      "displayName": "IACV-TA-Team",
      "userId": "02056513601283280926"
     },
     "user_tz": -60
    },
    "id": "sm2uH5G0Tk3q",
    "outputId": "4a2061fc-f336-4b8f-aa70-691823e8cd95"
   },
   "outputs": [
    {
     "data": {
      "text/plain": [
       "<All keys matched successfully>"
      ]
     },
     "execution_count": 19,
     "metadata": {},
     "output_type": "execute_result"
    }
   ],
   "source": [
    "from model import generate_resnet\n",
    "\n",
    "# Path to load the model from\n",
    "load_path = os.path.join(env_path, 'ckpt/resnet4five.pt')\n",
    "\n",
    "# Device to train on\n",
    "device = \"cuda\" if torch.cuda.is_available() else \"cpu\"\n",
    "\n",
    "# Create the model with 5 output classes\n",
    "model = generate_resnet(num_classes=5)\n",
    "\n",
    "# Next we load the pre-trained weights, and set it to the model we created\n",
    "model.load_state_dict(torch.load(load_path, map_location=device, weights_only=True))"
   ]
  },
  {
   "cell_type": "markdown",
   "metadata": {
    "id": "7n8VFaxYUa2T"
   },
   "source": [
    "Next, we can test the pre-trained model on the dataset.\n",
    "Check out the file `evaluation.py` to see how the model is used to make a prediction.\n",
    "A very similar code will be used to create your prediction at the end of this file."
   ]
  },
  {
   "cell_type": "code",
   "execution_count": 20,
   "metadata": {
    "id": "r1zWLG_0OrdE"
   },
   "outputs": [
    {
     "name": "stdout",
     "output_type": "stream",
     "text": [
      "Test accuracy with pretrained model: 0.476\n"
     ]
    },
    {
     "data": {
      "image/png": "[encoded data removed]",
      "text/plain": [
       "<Figure size 640x480 with 1 Axes>"
      ]
     },
     "metadata": {},
     "output_type": "display_data"
    }
   ],
   "source": [
    "from evaluation import evaluate_model\n",
    "from utils import show_class_accs\n",
    "\n",
    "# Evaluate the model\n",
    "test_accuracy = evaluate_model(model, test_loader, device=device, mapping=map5to10)\n",
    "print(f\"Test accuracy with pretrained model: {test_accuracy:.3f}\")\n",
    "\n",
    "# Classwise accuracies\n",
    "test_class_accs = evaluate_model(\n",
    "    model, test_loader, device=device, mapping=map5to10, classwise=True\n",
    ")\n",
    "\n",
    "show_class_accs(test_class_accs, classes, title=\"Test\")"
   ]
  },
  {
   "cell_type": "markdown",
   "metadata": {
    "id": "xz4VjaxmWse6"
   },
   "source": [
    "As expected, we see the the pre-trained model obtains good performance on the 5 out of 10 classes which it has been trained for. However, it cannot handle the other 5 *unseen* classes, and thus obtains a low overall classification accuracy. Your task is to adapt this pre-trained model such that it obtains better overall classification accuracy than iacvbasline."
   ]
  },
  {
   "cell_type": "markdown",
   "metadata": {
    "id": "9bThsKaQEDzh"
   },
   "source": [
    "## Your Solution\n",
    "\n",
    "You can write your own implementation here.\n",
    "You can change the custom functions given according to your needs."
   ]
  },
  {
   "cell_type": "code",
   "execution_count": 31,
   "metadata": {
    "id": "eOLPuce0A5gj"
   },
   "outputs": [
    {
     "name": "stdout",
     "output_type": "stream",
     "text": [
      "Model Summary:\n",
      "----------------------------------------------------------------\n",
      "        Layer (type)               Output Shape         Param #\n",
      "================================================================\n",
      "            Conv2d-1           [-1, 64, 32, 32]           1,728\n",
      "       BatchNorm2d-2           [-1, 64, 32, 32]             128\n",
      "            Conv2d-3           [-1, 64, 32, 32]          36,864\n",
      "       BatchNorm2d-4           [-1, 64, 32, 32]             128\n",
      "            Conv2d-5           [-1, 64, 32, 32]          36,864\n",
      "       BatchNorm2d-6           [-1, 64, 32, 32]             128\n",
      "        BasicBlock-7           [-1, 64, 32, 32]               0\n",
      "            Conv2d-8           [-1, 64, 32, 32]          36,864\n",
      "       BatchNorm2d-9           [-1, 64, 32, 32]             128\n",
      "           Conv2d-10           [-1, 64, 32, 32]          36,864\n",
      "      BatchNorm2d-11           [-1, 64, 32, 32]             128\n",
      "       BasicBlock-12           [-1, 64, 32, 32]               0\n",
      "           Conv2d-13          [-1, 128, 16, 16]          73,728\n",
      "      BatchNorm2d-14          [-1, 128, 16, 16]             256\n",
      "           Conv2d-15          [-1, 128, 16, 16]         147,456\n",
      "      BatchNorm2d-16          [-1, 128, 16, 16]             256\n",
      "           Conv2d-17          [-1, 128, 16, 16]           8,192\n",
      "      BatchNorm2d-18          [-1, 128, 16, 16]             256\n",
      "       BasicBlock-19          [-1, 128, 16, 16]               0\n",
      "           Conv2d-20          [-1, 128, 16, 16]         147,456\n",
      "      BatchNorm2d-21          [-1, 128, 16, 16]             256\n",
      "           Conv2d-22          [-1, 128, 16, 16]         147,456\n",
      "      BatchNorm2d-23          [-1, 128, 16, 16]             256\n",
      "       BasicBlock-24          [-1, 128, 16, 16]               0\n",
      "           Conv2d-25            [-1, 256, 8, 8]         294,912\n",
      "      BatchNorm2d-26            [-1, 256, 8, 8]             512\n",
      "           Conv2d-27            [-1, 256, 8, 8]         589,824\n",
      "      BatchNorm2d-28            [-1, 256, 8, 8]             512\n",
      "           Conv2d-29            [-1, 256, 8, 8]          32,768\n",
      "      BatchNorm2d-30            [-1, 256, 8, 8]             512\n",
      "       BasicBlock-31            [-1, 256, 8, 8]               0\n",
      "           Conv2d-32            [-1, 256, 8, 8]         589,824\n",
      "      BatchNorm2d-33            [-1, 256, 8, 8]             512\n",
      "           Conv2d-34            [-1, 256, 8, 8]         589,824\n",
      "      BatchNorm2d-35            [-1, 256, 8, 8]             512\n",
      "       BasicBlock-36            [-1, 256, 8, 8]               0\n",
      "           Conv2d-37            [-1, 512, 4, 4]       1,179,648\n",
      "      BatchNorm2d-38            [-1, 512, 4, 4]           1,024\n",
      "           Conv2d-39            [-1, 512, 4, 4]       2,359,296\n",
      "      BatchNorm2d-40            [-1, 512, 4, 4]           1,024\n",
      "           Conv2d-41            [-1, 512, 4, 4]         131,072\n",
      "      BatchNorm2d-42            [-1, 512, 4, 4]           1,024\n",
      "       BasicBlock-43            [-1, 512, 4, 4]               0\n",
      "           Conv2d-44            [-1, 512, 4, 4]       2,359,296\n",
      "      BatchNorm2d-45            [-1, 512, 4, 4]           1,024\n",
      "           Conv2d-46            [-1, 512, 4, 4]       2,359,296\n",
      "      BatchNorm2d-47            [-1, 512, 4, 4]           1,024\n",
      "       BasicBlock-48            [-1, 512, 4, 4]               0\n",
      "           Linear-49                   [-1, 10]           5,130\n",
      "================================================================\n",
      "Total params: 11,173,962\n",
      "Trainable params: 5,130\n",
      "Non-trainable params: 11,168,832\n",
      "----------------------------------------------------------------\n",
      "Input size (MB): 0.01\n",
      "Forward/backward pass size (MB): 11.25\n",
      "Params size (MB): 42.63\n",
      "Estimated Total Size (MB): 53.89\n",
      "----------------------------------------------------------------\n"
     ]
    },
    {
     "name": "stderr",
     "output_type": "stream",
     "text": [
      "Epoch 1/2: 100%|██████████| 62/62 [00:18<00:00,  3.30batch/s]\n"
     ]
    },
    {
     "name": "stdout",
     "output_type": "stream",
     "text": [
      "Epoch [1/2] Train Loss: 1.8973, Train Acc: 44.35%, Val Loss: 1.6068, Val Acc: 46.67%\n",
      "Best model saved at epoch 1 with validation accuracy 46.67%\n"
     ]
    },
    {
     "name": "stderr",
     "output_type": "stream",
     "text": [
      "Epoch 2/2: 100%|██████████| 62/62 [00:18<00:00,  3.31batch/s]\n"
     ]
    },
    {
     "name": "stdout",
     "output_type": "stream",
     "text": [
      "Epoch [2/2] Train Loss: 1.4323, Train Acc: 56.39%, Val Loss: 1.3186, Val Acc: 58.57%\n",
      "Best model saved at epoch 2 with validation accuracy 58.57%\n"
     ]
    },
    {
     "data": {
      "image/png": "[encoded data removed]",
      "text/plain": [
       "<Figure size 1200x500 with 2 Axes>"
      ]
     },
     "metadata": {},
     "output_type": "display_data"
    },
    {
     "name": "stdout",
     "output_type": "stream",
     "text": [
      "Validation Accuracy: 58.57%\n",
      "Test Accuracy: 3.90%\n"
     ]
    }
   ],
   "source": [
    "# For convenience reimport all custom functions\n",
    "from utils import seed_everything\n",
    "from model import generate_resnet\n",
    "from dataset import get_datasets_from_h5, get_loaders_from_datasets\n",
    "from training import train_model, plot_training_log\n",
    "from evaluation import evaluate_model\n",
    "\n",
    "from torchsummary import summary\n",
    "\n",
    " # Give your Legi number as random seed\n",
    "seed = 15941073\n",
    "seed_everything(seed)\n",
    "\n",
    "# Modify the model to output 10 classes\n",
    "num_ftrs = model.linear.in_features\n",
    "model.linear = torch.nn.Linear(num_ftrs, 10)\n",
    "\n",
    "\n",
    "# Freeze all layers except the last one\n",
    "for name, param in model.named_parameters():\n",
    "    if 'linear' not in name:\n",
    "        param.requires_grad = False\n",
    "\n",
    "# Move model to device\n",
    "model.to(device)\n",
    "\n",
    "# Print model summary\n",
    "print(\"Model Summary:\")\n",
    "summary(model, input_size=(3, 32, 32))\n",
    "\n",
    "# Define loss function and optimizer\n",
    "criterion = torch.nn.CrossEntropyLoss()\n",
    "optimizer = torch.optim.Adam(filter(lambda p: p.requires_grad, model.parameters()), lr=1e-3)\n",
    "\n",
    "# Train the model\n",
    "num_epochs = 2\n",
    "training_log = train_model(\n",
    "    model=model, \n",
    "    train_loader=train_loader, \n",
    "    val_loader=val_loader, \n",
    "    criterion=criterion, \n",
    "    optimizer=optimizer, \n",
    "    num_epochs=num_epochs, \n",
    "    device=device\n",
    ")\n",
    "\n",
    "# Plot training and validation loss\n",
    "plot_training_log(training_log)\n",
    "\n",
    "# Evaluate the model on validation and test sets\n",
    "val_accuracy = evaluate_model(model, val_loader, device=device)\n",
    "test_accuracy = evaluate_model(model, test_loader, device=device)\n",
    "\n",
    "print(f'Validation Accuracy: {val_accuracy*100:.2f}%')\n",
    "print(f'Test Accuracy: {test_accuracy*100:.2f}%')"
   ]
  },
  {
   "cell_type": "code",
   "execution_count": 26,
   "metadata": {},
   "outputs": [
    {
     "name": "stderr",
     "output_type": "stream",
     "text": [
      "/var/folders/69/wyx1_l6s2j75y6x1rp51xhnw0000gn/T/ipykernel_53484/3215886847.py:2: FutureWarning: You are using `torch.load` with `weights_only=False` (the current default value), which uses the default pickle module implicitly. It is possible to construct malicious pickle data which will execute arbitrary code during unpickling (See https://github.com/pytorch/pytorch/blob/main/SECURITY.md#untrusted-models for more details). In a future release, the default value for `weights_only` will be flipped to `True`. This limits the functions that could be executed during unpickling. Arbitrary objects will no longer be allowed to be loaded via this mode unless they are explicitly allowlisted by the user via `torch.serialization.add_safe_globals`. We recommend you start setting `weights_only=True` for any use case where you don't have full control of the loaded file. Please open an issue on GitHub for any issues related to this experimental feature.\n",
      "  model.load_state_dict(torch.load(os.path.join(env_path, 'ckpt/model.pt')))\n"
     ]
    },
    {
     "name": "stdout",
     "output_type": "stream",
     "text": [
      "Test Accuracy: 68.10%\n"
     ]
    }
   ],
   "source": [
    "# Load the best model\n",
    "model.load_state_dict(torch.load(os.path.join(env_path, 'ckpt/model.pt')))\n",
    "\n",
    "# Evaluate on the test set\n",
    "test_accuracy = evaluate_model(model, test_loader, device=device)\n",
    "print(f'Test Accuracy: {test_accuracy*100:.2f}%')"
   ]
  },
  {
   "cell_type": "markdown",
   "metadata": {
    "id": "1LI94WFCbRtQ"
   },
   "source": [
    "## Generating the final submission\n",
    "\n",
    "When you are happy with your network, you can run the next cell to generate your network predictions on the test set, which will be stored in the submission directory on your Google Drive.\n",
    "Download the submission folder (without renaming) as a zip, and upload it to the evaluation server to obtain the scores on the test set."
   ]
  },
  {
   "cell_type": "code",
   "execution_count": 30,
   "metadata": {
    "id": "c5cu-b_AB8Rp"
   },
   "outputs": [
    {
     "data": {
      "text/plain": [
       "'/Users/joelflueckiger/Desktop/IACV/5/submission/handout.ipynb'"
      ]
     },
     "execution_count": 30,
     "metadata": {},
     "output_type": "execute_result"
    }
   ],
   "source": [
    "from dataset import get_test_loader\n",
    "\n",
    "test_h5_path = os.path.join(env_path, 'data', 'test.h5')\n",
    "\n",
    "submission_path = Path(os.path.join(env_path, 'submission'))\n",
    "submission_path.mkdir(exist_ok=True)\n",
    "\n",
    "# Choose device to run inference\n",
    "device = \"cuda\" if torch.cuda.is_available() else \"cpu\"\n",
    "\n",
    "# Load test dataset and dataloader\n",
    "test_loader = get_test_loader(test_h5_path)\n",
    "\n",
    "# Predictions to store\n",
    "predictions = list()\n",
    "\n",
    "# Set to evaluation mode\n",
    "model.eval()\n",
    "\n",
    "# Iterate over the test set\n",
    "with torch.no_grad():\n",
    "    for images, _ in test_loader:\n",
    "        images = images.to(device)\n",
    "        outputs = model(images)\n",
    "        # Get the predictions\n",
    "        _, preds = torch.max(outputs, 1)\n",
    "        preds = preds.cpu()\n",
    "        predictions.extend(preds.tolist())\n",
    "\n",
    "# Save the outputs (do not change the name)\n",
    "np.savetxt(submission_path / 'labels.csv', predictions, fmt=\"%d\")\n",
    "\n",
    "# Save the relevant files (do not change the name)\n",
    "shutil.copyfile(os.path.join(env_path, 'model.py'), os.path.join(submission_path, 'model.py'))\n",
    "shutil.copyfile(os.path.join(env_path, 'dataset.py'), os.path.join(submission_path, 'dataset.py'))\n",
    "shutil.copyfile(os.path.join(env_path, 'training.py'), os.path.join(submission_path, 'training.py'))\n",
    "shutil.copyfile(os.path.join(env_path, 'handout.ipynb'), os.path.join(submission_path, 'handout.ipynb'))"
   ]
  },
  {
   "cell_type": "code",
   "execution_count": null,
   "metadata": {},
   "outputs": [],
   "source": [
    "import optuna\n",
    "import torch\n",
    "import torch.optim as optim\n",
    "from torch.utils.data import DataLoader, TensorDataset\n",
    "from dataset import ImageDataset\n",
    "\n",
    "# # Objective function for Optuna\n",
    "def objective(trial):\n",
    "    # Suggest hyperparameters\n",
    "    batch_size = trial.suggest_int('batch_size', 4, 64)\n",
    "    learning_rate = trial.suggest_loguniform('learning_rate', 1e-5, 1e-1)\n",
    "    momentum = trial.suggest_uniform('momentum', 0.5, 0.9)\n",
    "    num_epochs = trial.suggest_int('num_epochs', 1, 10)\n",
    "    weight_decay = trial.suggest_loguniform('weight_decay', 1e-5, 1e-1)\n",
    "\n",
    "    # Generate our data loaders\n",
    "    dataset_train = ImageDataset(os.path.join(data_path, 'train.csv'), os.path.join(data_path, 'train.hdf5'), get_transforms_train())\n",
    "    dataset_valid = ImageDataset(os.path.join(data_path, 'train.csv'), os.path.join(data_path, 'train.hdf5'), get_transforms_val())\n",
    "\n",
    "    train_loader = DataLoader(dataset_train, batch_size, shuffle=True, num_workers=0)\n",
    "    valid_loader = DataLoader(dataset_valid, batch_size, shuffle=True, num_workers=0)\n",
    "\n",
    "    # create CNN model\n",
    "    model = CNN()\n",
    "\n",
    "    # Get optimizer and loss functions\n",
    "    criterion = get_loss_function()\n",
    "    # optimizer = get_optimizer(cnn_network, lr=learning_rate, momentum=momentum)\n",
    "    \n",
    "    # Initialize model, loss function, and optimizer\n",
    "    #model = SimpleModel()\n",
    "    #criterion = nn.CrossEntropyLoss()\n",
    "    optimizer = optim.Adam(model.parameters(), lr=learning_rate, weight_decay=weight_decay)\n",
    "\n",
    "    # Training loop\n",
    "    for epoch in range(num_epochs):\n",
    "        for data, target in train_loader:\n",
    "            optimizer.zero_grad()\n",
    "            output = model(data)\n",
    "            loss = criterion(output, target)\n",
    "            loss.backward()\n",
    "            optimizer.step()\n",
    "\n",
    "    # Return the final loss\n",
    "    return loss.item()\n",
    "\n",
    "# Run Optuna optimization\n",
    "study = optuna.create_study(direction='minimize')\n",
    "study.optimize(objective, n_trials=100)\n",
    "\n",
    "# Print best hyperparameters\n",
    "print(study.best_params)"
   ]
  }
 ],
 "metadata": {
  "colab": {
   "provenance": []
  },
  "kernelspec": {
   "display_name": "Python 3",
   "name": "python3"
  },
  "language_info": {
   "codemirror_mode": {
    "name": "ipython",
    "version": 3
   },
   "file_extension": ".py",
   "mimetype": "text/x-python",
   "name": "python",
   "nbconvert_exporter": "python",
   "pygments_lexer": "ipython3",
   "version": "3.8.13"
  },
  "vscode": {
   "interpreter": {
    "hash": "b8ecf7fafc54fa33b4025afd9bff0a8d28b549f5b10ab097d7a2df0f41da54c9"
   }
  }
 },
 "nbformat": 4,
 "nbformat_minor": 0
}
